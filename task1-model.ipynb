{
 "cells": [
  {
   "cell_type": "code",
   "execution_count": 1,
   "metadata": {},
   "outputs": [],
   "source": [
    "import numpy as np\n",
    "import pandas as pd\n",
    "import nltk\n",
    "from sklearn.preprocessing import StandardScaler\n",
    "from sklearn.feature_extraction.text import TfidfVectorizer\n",
    "from sklearn.naive_bayes import GaussianNB\n",
    "from sklearn.preprocessing import LabelEncoder\n",
    "from sklearn.metrics import accuracy_score\n",
    "from sklearn.linear_model import LogisticRegression\n",
    "from functions import handle_clean_text, map_sentiment\n",
    "import pickle\n",
    "\n",
    "STOP_WORDS = nltk.corpus.stopwords.words(\"english\")\n",
    "lemmatizer = nltk.WordNetLemmatizer()\n",
    "tfidf = TfidfVectorizer()\n",
    "le = LabelEncoder()\n",
    "sc = StandardScaler()"
   ]
  },
  {
   "cell_type": "code",
   "execution_count": 2,
   "metadata": {},
   "outputs": [],
   "source": [
    "train_data = pd.read_csv(\"datasets/task1/train.csv\")\n",
    "test_data = pd.read_csv(\"datasets/task1/test.csv\")\n",
    "x_train = handle_clean_text(train_data[\"text\"])\n",
    "x_test = handle_clean_text(test_data[\"text\"])\n",
    "\n",
    "x_train_tfidf =  tfidf.fit_transform(x_train)\n",
    "x_test_tfidf =  tfidf.transform(x_test)\n",
    "\n",
    "y_train = train_data[\"sentiment\"].apply(map_sentiment)\n",
    "y_test = test_data[\"sentiment\"].apply(map_sentiment)\n"
   ]
  },
  {
   "cell_type": "code",
   "execution_count": 3,
   "metadata": {},
   "outputs": [
    {
     "name": "stdout",
     "output_type": "stream",
     "text": [
      "Gaussian Naive Bayes model - accuracy score:  0.4037917374080362\n"
     ]
    }
   ],
   "source": [
    "GNB = GaussianNB()\n",
    "GNB.fit(x_train_tfidf.toarray(), y_train)\n",
    "\n",
    "GBN_y_predicted = GNB.predict(x_test_tfidf.toarray())\n",
    "\n",
    "GNB_accuracy = accuracy_score(y_test, GBN_y_predicted)\n",
    "print(\"Gaussian Naive Bayes model - accuracy score: \",GNB_accuracy)"
   ]
  },
  {
   "cell_type": "code",
   "execution_count": 4,
   "metadata": {},
   "outputs": [
    {
     "name": "stdout",
     "output_type": "stream",
     "text": [
      "Logistic Regression model - accuracy score:  0.700339558573854\n"
     ]
    }
   ],
   "source": [
    "lr = LogisticRegression(random_state=42, max_iter=500)\n",
    "\n",
    "lr.fit(x_train_tfidf.toarray(), y_train)\n",
    "\n",
    "lr_y_predicted = lr.predict(x_test_tfidf.toarray())\n",
    "\n",
    "lr_accuracy = accuracy_score(y_test, lr_y_predicted)\n",
    "print(\"Logistic Regression model - accuracy score: \",lr_accuracy)\n"
   ]
  },
  {
   "cell_type": "code",
   "execution_count": 5,
   "metadata": {},
   "outputs": [],
   "source": [
    "with open(\"tfidf_vectorizer.pkl\", \"wb\") as f:\n",
    "    pickle.dump(tfidf, f)\n",
    "\n",
    "with open(\"logistic_regression_model.pkl\", \"wb\") as f:\n",
    "    pickle.dump(lr, f)\n"
   ]
  }
 ],
 "metadata": {
  "kernelspec": {
   "display_name": "base",
   "language": "python",
   "name": "python3"
  },
  "language_info": {
   "codemirror_mode": {
    "name": "ipython",
    "version": 3
   },
   "file_extension": ".py",
   "mimetype": "text/x-python",
   "name": "python",
   "nbconvert_exporter": "python",
   "pygments_lexer": "ipython3",
   "version": "3.12.4"
  }
 },
 "nbformat": 4,
 "nbformat_minor": 2
}
