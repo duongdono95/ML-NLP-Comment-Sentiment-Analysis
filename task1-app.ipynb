{
 "cells": [
  {
   "cell_type": "code",
   "execution_count": null,
   "metadata": {
    "vscode": {
     "languageId": "plaintext"
    }
   },
   "outputs": [],
   "source": [
    "import tkinter as tk\n",
    "from tkinter import ttk\n",
    "from functions import handle_clean_text\n",
    "import pickle\n",
    "with open(\"tfidf_vectorizer.pkl\", \"rb\") as f:\n",
    "    tfidf = pickle.load(f)\n",
    "\n",
    "\n",
    "with open(\"logistic_regression_model.pkl\", \"rb\") as f:\n",
    "    model = pickle.load(f)\n",
    "   \n",
    "class App(tk.Tk):\n",
    "    def __init__(self):\n",
    "        super().__init__()\n",
    "        self.title(\"Sentiment App\")\n",
    "        self.geometry(\"600x800\")\n",
    "        self.configure(background=\"#ff0000\")\n",
    "        self.create_widgets()\n",
    "       \n",
    "    def create_widgets(self):\n",
    "        # Title Section\n",
    "        title_section = ttk.Frame(self, width=800)\n",
    "        title_section.pack(fill=\"x\", pady=10)\n",
    "        title_label = ttk.Label(title_section, text=\"Text Detector System\", font=(\"Arial\", 20))\n",
    "        title_label.pack()\n",
    "       \n",
    "        # Input Section\n",
    "        input_section = ttk.Frame(self, width=800)\n",
    "        input_section.pack(fill=\"x\", pady=10)\n",
    "        input_label = ttk.Label(input_section, text=\"Enter your text for sentiment analysis:\", font=(\"Arial\", 14))\n",
    "        input_label.pack(anchor=\"w\", padx=10, pady=5)\n",
    "       \n",
    "        # Text Box for User Input\n",
    "        self.user_input = tk.Text(input_section, height=10, width=50, font=(\"Arial\", 12))\n",
    "        self.user_input.pack(fill=\"x\", padx=10, pady=5)\n",
    "       \n",
    "        # Submit Button\n",
    "        submit_button = ttk.Button(input_section, text=\"Analyze Text\", command=self.handle_analyse_text)\n",
    "        submit_button.pack(pady=10, padx=5)\n",
    "       \n",
    "        # Result Section to Display Output\n",
    "        self.result_section = ttk.Frame(self, width=800)\n",
    "        self.result_section.pack(fill=\"x\", pady=10)\n",
    "       \n",
    "        # Label to show the result text\n",
    "        self.result_label = ttk.Label(self.result_section, text=\"\", font=(\"Arial\", 14), foreground=\"blue\")\n",
    "        self.result_label.pack(padx=10, pady=5)\n",
    "       \n",
    "    def handle_analyse_text(self):\n",
    "        user_text = self.user_input.get(\"1.0\", tk.END)\n",
    "        cleaned_text = handle_clean_text([user_text])\n",
    "        input_tfidf = tfidf.transform(cleaned_text)\n",
    "        prediction = model.predict(input_tfidf.toarray())\n",
    "        sentiment = \"Positive\" if prediction[0] == 1 else \"Negative\"\n",
    "        self.result_label.config(text=f\"Result: {sentiment}\")\n",
    "\n",
    "\n",
    "if __name__ == \"__main__\":\n",
    "    app = App()\n",
    "    app.mainloop()\n",
    "\n",
    "\n"
   ]
  }
 ],
 "metadata": {
  "language_info": {
   "name": "python"
  }
 },
 "nbformat": 4,
 "nbformat_minor": 2
}
