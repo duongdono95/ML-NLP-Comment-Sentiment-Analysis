{
 "cells": [
  {
   "cell_type": "code",
   "execution_count": null,
   "metadata": {},
   "outputs": [
    {
     "name": "stdout",
     "output_type": "stream",
     "text": [
      "done\n"
     ]
    }
   ],
   "source": [
    "from FeatureExtraction import FeatureExtraction\n",
    "import os\n",
    "train_image_dataset_path = \"datasets/train\"\n",
    "test_image_dataset_path = \"datasets/test\"\n",
    "\n",
    "features_main_folder = \"features\"\n",
    "\n",
    "train_features_folder = \"train\"\n",
    "test_features_folder = \"test\"\n",
    "\n",
    "required_files = [\n",
    "    \"GLCMFeatures.csv\",\n",
    "    \"HOGFeatures.csv\",\n",
    "    \"PCA_HOG_Features.csv\",\n",
    "    \"Combined_Features.csv\"\n",
    "]\n",
    "\n",
    "missing_training_files = [file for file in required_files if not os.path.exists(os.path.join(features_main_folder, train_features_folder, file))]\n",
    "if missing_training_files:\n",
    "    FeatureExtraction(train_image_dataset_path, features_main_folder, train_features_folder )\n",
    "    \n",
    "missing_testing_files = [file for file in required_files if not os.path.exists(os.path.join(features_main_folder, test_features_folder, file))]\n",
    "if missing_testing_files:     \n",
    "    FeatureExtraction(test_image_dataset_path, features_main_folder, test_features_folder )       \n"
   ]
  }
 ],
 "metadata": {
  "kernelspec": {
   "display_name": "base",
   "language": "python",
   "name": "python3"
  },
  "language_info": {
   "codemirror_mode": {
    "name": "ipython",
    "version": 3
   },
   "file_extension": ".py",
   "mimetype": "text/x-python",
   "name": "python",
   "nbconvert_exporter": "python",
   "pygments_lexer": "ipython3",
   "version": "3.12.4"
  }
 },
 "nbformat": 4,
 "nbformat_minor": 2
}
