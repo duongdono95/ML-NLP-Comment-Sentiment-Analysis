{
 "cells": [
  {
   "cell_type": "code",
   "execution_count": 6,
   "metadata": {},
   "outputs": [],
   "source": [
    "import numpy as np\n",
    "import pandas as pd\n",
    "import nltk\n",
    "from sklearn.preprocessing import StandardScaler\n",
    "from sklearn.feature_extraction.text import TfidfVectorizer\n",
    "from sklearn.naive_bayes import GaussianNB\n",
    "from sklearn.preprocessing import LabelEncoder\n",
    "from sklearn.metrics import accuracy_score\n",
    "from sklearn.linear_model import LogisticRegression\n",
    "from functions import handle_clean_text, map_sentiment\n",
    "import pickle\n",
    "\n",
    "STOP_WORDS = nltk.corpus.stopwords.words(\"english\")\n",
    "lemmatizer = nltk.WordNetLemmatizer()\n",
    "tfidf = TfidfVectorizer()\n",
    "le = LabelEncoder()\n",
    "sc = StandardScaler()"
   ]
  },
  {
   "cell_type": "code",
   "execution_count": 7,
   "metadata": {},
   "outputs": [],
   "source": [
    "# import Data\n",
    "train_data = pd.read_csv(\"datasets/train.csv\")\n",
    "test_data = pd.read_csv(\"datasets/test.csv\")\n",
    "\n",
    "x_train = handle_clean_text(train_data[\"text\"])\n",
    "x_test = handle_clean_text(test_data[\"text\"])\n",
    "\n",
    "# transform data into TFIDF format\n",
    "x_train_tfidf =  tfidf.fit_transform(x_train)\n",
    "x_test_tfidf =  tfidf.transform(x_test)\n",
    "\n",
    "# mapping target classes into numbers (1, 2, 3) \n",
    "y_train = train_data[\"sentiment\"].apply(map_sentiment)\n",
    "y_test = test_data[\"sentiment\"].apply(map_sentiment)\n"
   ]
  },
  {
   "cell_type": "code",
   "execution_count": 8,
   "metadata": {},
   "outputs": [
    {
     "name": "stdout",
     "output_type": "stream",
     "text": [
      "Gaussian Naive Bayes model - accuracy score:  0.40492359932088284\n"
     ]
    }
   ],
   "source": [
    "# 1. Training Gaussian Naive Bayes model\n",
    "GNB = GaussianNB()\n",
    "GNB.fit(x_train_tfidf.toarray(), y_train)\n",
    "\n",
    "GBN_y_predicted = GNB.predict(x_test_tfidf.toarray())\n",
    "\n",
    "GNB_accuracy = accuracy_score(y_test, GBN_y_predicted)\n",
    "print(\"Gaussian Naive Bayes model - accuracy score: \",GNB_accuracy)"
   ]
  },
  {
   "cell_type": "code",
   "execution_count": 9,
   "metadata": {},
   "outputs": [
    {
     "name": "stdout",
     "output_type": "stream",
     "text": [
      "Logistic Regression model - accuracy score:  0.6963780418788907\n"
     ]
    }
   ],
   "source": [
    "# 2. Training Logistic Regression Model\n",
    "lr = LogisticRegression(random_state=42, max_iter=500)\n",
    "\n",
    "lr.fit(x_train_tfidf.toarray(), y_train)\n",
    "\n",
    "lr_y_predicted = lr.predict(x_test_tfidf.toarray())\n",
    "\n",
    "lr_accuracy = accuracy_score(y_test, lr_y_predicted)\n",
    "print(\"Logistic Regression model - accuracy score: \",lr_accuracy)\n"
   ]
  },
  {
   "cell_type": "code",
   "execution_count": 10,
   "metadata": {},
   "outputs": [],
   "source": [
    "# Save trainned TFIDF into file\n",
    "with open(\"tfidf_vectorizer.pkl\", \"wb\") as f:\n",
    "    pickle.dump(tfidf, f)\n",
    "# Save trainned Logistic Regression model into file\n",
    "with open(\"logistic_regression_model.pkl\", \"wb\") as f:\n",
    "    pickle.dump(lr, f)\n"
   ]
  }
 ],
 "metadata": {
  "kernelspec": {
   "display_name": "base",
   "language": "python",
   "name": "python3"
  },
  "language_info": {
   "codemirror_mode": {
    "name": "ipython",
    "version": 3
   },
   "file_extension": ".py",
   "mimetype": "text/x-python",
   "name": "python",
   "nbconvert_exporter": "python",
   "pygments_lexer": "ipython3",
   "version": "3.12.7"
  }
 },
 "nbformat": 4,
 "nbformat_minor": 2
}
